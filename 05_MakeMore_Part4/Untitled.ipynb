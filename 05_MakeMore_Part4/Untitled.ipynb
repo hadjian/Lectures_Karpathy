{
 "cells": [
  {
   "cell_type": "markdown",
   "id": "2673859b-4d8a-4881-8fa3-11860cdb9878",
   "metadata": {},
   "source": [
    "# Becoming a Backprop Ninja\n",
    "* You need to understand backpropagation, because it is a leaky abstraction\n",
    "* We already covered backpropagation for the scalar case, by implementing micrograd\n",
    "* But we need to expand this knowledge to tensors\n",
    "* We will use the same neural network as in the last lecture, but this time we will implement the backward pass manually"
   ]
  },
  {
   "cell_type": "markdown",
   "id": "d78c9a6e-1466-4519-965d-f6a239dc480a",
   "metadata": {},
   "source": [
    "## The Neural Network"
   ]
  },
  {
   "cell_type": "code",
   "execution_count": 1,
   "id": "c92b2632-e797-4c34-9a8d-86a0a01468ec",
   "metadata": {},
   "outputs": [],
   "source": [
    "import torch\n",
    "import torch.nn.functional as F\n",
    "import matplotlib.pyplot as plt\n",
    "import random\n",
    "%matplotlib inline"
   ]
  },
  {
   "cell_type": "code",
   "execution_count": 2,
   "id": "dfa6c142-c68f-4995-aecf-ea2824a66197",
   "metadata": {},
   "outputs": [
    {
     "name": "stdout",
     "output_type": "stream",
     "text": [
      "32033\n",
      "15\n",
      "['emma', 'olivia', 'ava', 'isabella', 'sophia', 'charlotte', 'mia', 'amelia']\n"
     ]
    }
   ],
   "source": [
    "# read in all the words\n",
    "words = open('names.txt', 'r').read().splitlines()\n",
    "print(len(words))\n",
    "print(max(len(w) for w in words))\n",
    "print(words[:8])"
   ]
  },
  {
   "cell_type": "code",
   "execution_count": 3,
   "id": "09cdcbfc-6da8-4460-b353-8b43331b4f90",
   "metadata": {},
   "outputs": [
    {
     "name": "stdout",
     "output_type": "stream",
     "text": [
      "{1: 'a', 2: 'b', 3: 'c', 4: 'd', 5: 'e', 6: 'f', 7: 'g', 8: 'h', 9: 'i', 10: 'j', 11: 'k', 12: 'l', 13: 'm', 14: 'n', 15: 'o', 16: 'p', 17: 'q', 18: 'r', 19: 's', 20: 't', 21: 'u', 22: 'v', 23: 'w', 24: 'x', 25: 'y', 26: 'z', 0: '.'}\n",
      "27\n"
     ]
    }
   ],
   "source": [
    "# build the vocabulary of characters and mappings to/from integers\n",
    "chars = list(sorted(set(''.join(words))))\n",
    "stoi = {s:i+1 for i,s in enumerate(chars)}\n",
    "stoi['.'] = 0\n",
    "vocab_size = len(stoi)\n",
    "itos = {i:s for s,i in stoi.items()}\n",
    "print(itos)\n",
    "print(vocab_size)"
   ]
  },
  {
   "cell_type": "code",
   "execution_count": 52,
   "id": "75291b4a-8782-4c1e-a0ba-e6596ea2c272",
   "metadata": {},
   "outputs": [],
   "source": [
    "# build the dataset\n",
    "block_size = 3\n",
    "def build_dataset(words):\n",
    "    X,Y = [], []\n",
    "    for w in words:\n",
    "        context = [0] * 3\n",
    "        for c in w+'.':\n",
    "            xi = stoi[c]\n",
    "            X.append(context)\n",
    "            Y.append(xi)\n",
    "            context = context[1:]+[xi]\n",
    "    X = torch.tensor(X)\n",
    "    Y = torch.tensor(Y)\n",
    "    return X,Y\n",
    "\n",
    "random.seed(42)\n",
    "random.shuffle(words)\n",
    "n1 = int(0.8*len(words))\n",
    "n2 = int(0.9*len(words))\n",
    "Xtr,Ytr=build_dataset(words[0:n1])\n",
    "Xval,Yval=build_dataset(words[n1:n2])\n",
    "Xtest, Ytest=build_dataset(words[n2:])\n"
   ]
  },
  {
   "cell_type": "markdown",
   "id": "bef86fbd-2aa0-4708-b27b-ba5e776d2f23",
   "metadata": {},
   "source": [
    "* A new utility function is introduced that compares our manual gradient computations with pytorch computed ones"
   ]
  },
  {
   "cell_type": "code",
   "execution_count": 5,
   "id": "895ee718-104d-42dd-9e12-02731e89480c",
   "metadata": {},
   "outputs": [],
   "source": [
    "def cmp(s, dt, t):\n",
    "    ex = torch.all(dt == t.grad).item()\n",
    "    app = torch.allclose(dt, t.grad)\n",
    "    maxdiff = (dt - t.grad).abs().max()\n",
    "    print(f'{s:15s} | exact {str(ex):5s} | approximate: {str(app):5s} | maxdiff: {maxdiff}')"
   ]
  },
  {
   "cell_type": "code",
   "execution_count": 6,
   "id": "c4de40b8-5106-4928-89fb-432186628c10",
   "metadata": {},
   "outputs": [
    {
     "name": "stdout",
     "output_type": "stream",
     "text": [
      "4137\n"
     ]
    }
   ],
   "source": [
    "n_embd = 10\n",
    "n_hidden = 64\n",
    "\n",
    "g = torch.Generator().manual_seed(2147483647)\n",
    "C = torch.randn((vocab_size, n_embd)               , generator = g)\n",
    "W1 = torch.randn((block_size*n_embd, n_hidden)     , generator = g) * 5/3 / ((block_size*n_embd)**0.5) # kaimin initialization to avoid contraction\n",
    "b1 = torch.randn((n_hidden)                        , generator = g) * 0.1\n",
    "W2 = torch.randn((n_hidden, vocab_size)            , generator = g) * 0.1  # make less confident\n",
    "b2 = torch.randn((vocab_size)                      , generator = g) * 0.1  # not zero to unmask gradient errors\n",
    "\n",
    "bngain = torch.ones((1, n_hidden)) * 0.1 + 1.0\n",
    "bnbias = torch.zeros((1, n_hidden)) * 0.1\n",
    "\n",
    "parameters = [C, W1, b1, W2, b2, bngain, bnbias]\n",
    "print(sum(p.nelement() for p in parameters))\n",
    "for p in parameters:\n",
    "    p.requires_grad = True"
   ]
  },
  {
   "cell_type": "markdown",
   "id": "2cd31673-2a92-4953-87d9-0acb479d650e",
   "metadata": {},
   "source": [
    "* We will do a single forward pass and for this calculate one batch"
   ]
  },
  {
   "cell_type": "code",
   "execution_count": 7,
   "id": "a347a472-e6c2-4097-b57c-753009b1594c",
   "metadata": {},
   "outputs": [],
   "source": [
    "batch_size = 32\n",
    "n = batch_size # shorter name for use in expressions\n",
    "xi = torch.randint(0, len(words), (batch_size, ), generator = g)\n",
    "Xb, Yb = Xtr[xi], Ytr[xi]"
   ]
  },
  {
   "cell_type": "code",
   "execution_count": 8,
   "id": "ace2fe6a-deed-47a8-9797-bcc756edd68d",
   "metadata": {},
   "outputs": [
    {
     "data": {
      "text/plain": [
       "tensor(3.3698, grad_fn=<NegBackward0>)"
      ]
     },
     "execution_count": 8,
     "metadata": {},
     "output_type": "execute_result"
    }
   ],
   "source": [
    "\n",
    "# forward pass \"chunkated\" into smaller steps that are possible to backward one at a time\n",
    "emb = C[Xb]\n",
    "embcat = emb.view(emb.shape[0], -1)\n",
    "# Linear Layer 1\n",
    "hprebn = embcat @ W1 + b1\n",
    "# Batchnorm Layer\n",
    "bnmeani = hprebn.mean(0, keepdim=True)\n",
    "bndiff = hprebn - bnmeani\n",
    "bndiff2 = bndiff**2\n",
    "bnvar = 1/(n-1) * bndiff2.sum(0, keepdim=True) # note: Bessel's correction (dividing by n-1 instead of n)\n",
    "bnvar_inv = (bnvar + 1e-5)**-0.5\n",
    "bnraw = bndiff * bnvar_inv\n",
    "hpreact = bngain * bnraw + bnbias\n",
    "# Non Linearity\n",
    "h = torch.tanh(hpreact)\n",
    "# Linear layer 2\n",
    "logits = h @ W2 + b2\n",
    "# cross entropy loss\n",
    "logit_maxes = logits.max(1, keepdim=True).values\n",
    "norm_logits = logits - logit_maxes # subtract max for numerical stability\n",
    "counts = norm_logits.exp()\n",
    "counts_sum = counts.sum(1, keepdims=True)\n",
    "counts_sum_inv = counts_sum**-1 # if I use (1.0 / counts_sum) instead then I can't get backprop to be bit exact...\n",
    "probs = counts * counts_sum_inv\n",
    "logprobs = probs.log()\n",
    "loss = -logprobs[range(n), Yb].mean()\n",
    "\n",
    "# PyTorch backward pass\n",
    "for p in parameters:\n",
    "    p.grad = None\n",
    "for t in [logprobs, probs, counts, counts_sum, counts_sum_inv,\n",
    "          norm_logits, logit_maxes, logits, h, hpreact, bnraw,\n",
    "          bnvar_inv, bnvar, bndiff2, bndiff, hprebn, bnmeani,\n",
    "          embcat, emb]:\n",
    "    t.retain_grad()\n",
    "loss.backward()\n",
    "loss\n",
    "\n"
   ]
  },
  {
   "cell_type": "markdown",
   "id": "c5d09fbc-f949-4cee-b553-caeeaf95103a",
   "metadata": {},
   "source": [
    "* Exercise 1: backprop through the whole thing manually, backpropagating through exactly all of the variables as they are defined in the forward pass above, one by one\n",
    "* We start with dlogprops, which has the following shape"
   ]
  },
  {
   "cell_type": "code",
   "execution_count": 9,
   "id": "f9527d14-d38d-4f53-9c4c-50a6c1991b18",
   "metadata": {},
   "outputs": [
    {
     "data": {
      "text/plain": [
       "torch.Size([32, 27])"
      ]
     },
     "execution_count": 9,
     "metadata": {},
     "output_type": "execute_result"
    }
   ],
   "source": [
    "logprobs.shape"
   ]
  },
  {
   "cell_type": "markdown",
   "id": "f3264bd3-ece9-46a5-ba77-44d0780af050",
   "metadata": {},
   "source": [
    "* The gradient tensor must have the same shape as we need the element-wise gradient\n",
    "* So how does ```logprobs``` influence ```loss```?\n",
    "* ```loss``` is a result of an index operation into ```logprobs``` and a mean calculation of all the resulting values\n",
    "* The result is then negated\n",
    "* The indices for each row of ```logprobs``` is taken from the row vector ```Yb```, which are all the correct labels for the 32 samples"
   ]
  },
  {
   "cell_type": "code",
   "execution_count": 10,
   "id": "f4d29438-71c5-42a3-88d1-f37d47f5c7ce",
   "metadata": {},
   "outputs": [
    {
     "name": "stdout",
     "output_type": "stream",
     "text": [
      "tensor([ 5,  0,  0, 13,  8, 19, 12,  0,  0, 14,  2, 14, 15, 20, 11, 11, 22, 13,\n",
      "        15,  1, 10, 18, 20, 19,  1,  9, 10, 25,  0, 15,  5,  9])\n"
     ]
    },
    {
     "data": {
      "text/plain": [
       "torch.Size([32])"
      ]
     },
     "execution_count": 10,
     "metadata": {},
     "output_type": "execute_result"
    }
   ],
   "source": [
    "print(Yb)\n",
    "Yb.shape"
   ]
  },
  {
   "cell_type": "markdown",
   "id": "aec0a41a-2c09-40b5-bf31-c3aaadad5d18",
   "metadata": {},
   "source": [
    "* So in a simpler example, where we have three indexes, the loss becomes\n",
    "  \n",
    "  $loss=-(a+b+c)/3=-a/3 - b/3 - c/3$\n",
    "* So deriving by each variable becomes for the example of $a$:\n",
    "  \n",
    "  $dloss/da=-1/3$\n",
    "\n",
    "* Or more generally $-1/n$ for $n$ variables\n",
    "* But only one number in the 32 rows is used in the $loss$ calculation, so the rest don't influence the $loss$ at all and thus receive a gradient of 0"
   ]
  },
  {
   "cell_type": "code",
   "execution_count": 11,
   "id": "f36a46ce-3f98-4142-9467-c4a0286d073a",
   "metadata": {},
   "outputs": [],
   "source": [
    "dlogprobs = torch.zeros_like(logprobs)\n",
    "dlogprobs[range(n), Yb] = -1.0/n"
   ]
  },
  {
   "cell_type": "code",
   "execution_count": 12,
   "id": "321f9ae5-f148-4614-bd25-61ccd2a7d4fe",
   "metadata": {},
   "outputs": [
    {
     "name": "stdout",
     "output_type": "stream",
     "text": [
      "logprobs        | exact True  | approximate: True  | maxdiff: 0.0\n"
     ]
    }
   ],
   "source": [
    "cmp('logprobs', dlogprobs, logprobs)"
   ]
  },
  {
   "cell_type": "markdown",
   "id": "367617d7-0f14-432c-961a-38d482272f4f",
   "metadata": {},
   "source": [
    "* We continue with deriving ```logprobs``` by it's variables\n",
    "* ```logprobs``` takes as it's variable only ```probs``` and results from applying ```log``` to every entry\n",
    "* So each entry of ```probs``` changes ```logprobs``` by the proportionality factor of the derivative of ```log```, which is ```1/x```, where ```x``` is the entry\n",
    "* As ```logprobs``` and ```probs``` have the same dimensions, we just calculate ```1/x``` for each entry\n",
    "* Also we need to apply the chain rule, by multiplying by the gradients of logprobs to arrive at the derivatives of ```probs``` with respect to ```loss```"
   ]
  },
  {
   "cell_type": "code",
   "execution_count": 13,
   "id": "b865306d-aabd-42da-b2ed-4e53169d15c3",
   "metadata": {},
   "outputs": [],
   "source": [
    "dprobs = 1/probs * dlogprobs"
   ]
  },
  {
   "cell_type": "code",
   "execution_count": 14,
   "id": "3d47ed42-2677-4186-af0d-48e06640eec9",
   "metadata": {},
   "outputs": [
    {
     "name": "stdout",
     "output_type": "stream",
     "text": [
      "dprobs          | exact True  | approximate: True  | maxdiff: 0.0\n"
     ]
    }
   ],
   "source": [
    "cmp('dprobs', dprobs, probs)"
   ]
  },
  {
   "cell_type": "markdown",
   "id": "8fc0465a-2b3c-4c60-aed5-190392c1afe3",
   "metadata": {},
   "source": [
    "* Moving on to the constituents of ```probs```, which is simply computed by multiplying the variables ```counts``` and ```counts_sum_inv```\n",
    "* Applying the derivative for multiplication (example $a$)\n",
    "  \n",
    "  $d(counts\\_sum\\_inv*counts)/dcounts\\_sum\\_inv=counts$\n",
    "* So for ```counts_sum_inv```, it will be a gradient of ```counts```\n",
    "* But we need to take into account that ```counts_sum_inv``` has a different dimensionality than ```probs```"
   ]
  },
  {
   "cell_type": "code",
   "execution_count": 15,
   "id": "f43f0bbc-fa4f-4d98-ad7e-5ad08570fef0",
   "metadata": {},
   "outputs": [
    {
     "data": {
      "text/plain": [
       "(torch.Size([32, 27]), torch.Size([32, 1]))"
      ]
     },
     "execution_count": 15,
     "metadata": {},
     "output_type": "execute_result"
    }
   ],
   "source": [
    "probs.shape, counts_sum_inv.shape"
   ]
  },
  {
   "cell_type": "markdown",
   "id": "d23b0b43-fa5a-4eef-b006-2c73646357ee",
   "metadata": {},
   "source": [
    "* We can see, that the one column of $counts_sum_inv$ will be broadcast into every of the 27 columns of ```probs```\n",
    "* We learned in the micrograd lecture that if a variable takes part in multiple expressions the gradients of those expression must be summed for that variable\n",
    "* One element of the ```counts_sum_inv``` column vector is used in 27 multiplications in one row of ```counts```, thus we will sum all the gradients in that row, which is the sum of ```counts```"
   ]
  },
  {
   "cell_type": "code",
   "execution_count": 16,
   "id": "6d337564-8ee4-4d24-a846-c7f2053824fe",
   "metadata": {},
   "outputs": [
    {
     "name": "stdout",
     "output_type": "stream",
     "text": [
      "dcounts_sum_inv | exact True  | approximate: True  | maxdiff: 0.0\n"
     ]
    }
   ],
   "source": [
    "dcounts_sum_inv= (counts*dprobs).sum(1, keepdim=True)\n",
    "cmp('dcounts_sum_inv', dcounts_sum_inv, counts_sum_inv)"
   ]
  },
  {
   "cell_type": "markdown",
   "id": "d4392ecc-1660-4178-bcb7-934f4c1a3304",
   "metadata": {},
   "source": [
    "* Next up is ```counts```, which appears in the two expressions that result in ```probs``` and ```counts_sum```\n",
    "* So before we can compute the derivative of ```counts```, we first need to derive ```counts_sum_inv``` wrt ```counts_sum```\n",
    "* ```counts_sum``` is inverted, so the derivative becomes\n",
    "\n",
    "  $d(counts\\_sum^{-1})/dcounts\\_sum=-counts\\_sum^{-2}$\n",
    "  "
   ]
  },
  {
   "cell_type": "code",
   "execution_count": 17,
   "id": "40da0065-7a16-487f-a56a-20ac3f3811a3",
   "metadata": {},
   "outputs": [
    {
     "name": "stdout",
     "output_type": "stream",
     "text": [
      "dcounts_sum     | exact True  | approximate: True  | maxdiff: 0.0\n"
     ]
    }
   ],
   "source": [
    "dcounts_sum = -1*counts_sum**-2 * dcounts_sum_inv\n",
    "cmp('dcounts_sum', dcounts_sum, counts_sum)"
   ]
  },
  {
   "cell_type": "markdown",
   "id": "86c673a5-de8e-4cee-bcfe-eb22c411f637",
   "metadata": {},
   "source": [
    "* Now we can compute the derivative of ```counts```\n",
    "* As all variables of ```counts``` are summed row wise in ```counts_sum```, the derivative will be one for each variable\n",
    "\n",
    "  $d(counts\\_sum)/dcounts=1$\n",
    "\n",
    "* In ```probs```, ```counts``` is multiplied with the broadcasted ```counts_sum_inv```, so\n",
    "\n",
    "  $d(probs)/dcounts=d(counts * counts\\_sum\\_inv)/dcounts=counts\\_sum\\_inv$"
   ]
  },
  {
   "cell_type": "code",
   "execution_count": 18,
   "id": "92684425-fc1b-43a5-9c91-2da7836ea320",
   "metadata": {},
   "outputs": [
    {
     "name": "stdout",
     "output_type": "stream",
     "text": [
      "dcounts         | exact True  | approximate: True  | maxdiff: 0.0\n"
     ]
    }
   ],
   "source": [
    "dcounts = torch.ones_like(counts) * dcounts_sum\n",
    "dcounts += counts_sum_inv * dprobs\n",
    "cmp('dcounts', dcounts, counts)"
   ]
  },
  {
   "cell_type": "code",
   "execution_count": 19,
   "id": "87d054c0-a460-4522-b522-f7295ac9b306",
   "metadata": {},
   "outputs": [
    {
     "name": "stdout",
     "output_type": "stream",
     "text": [
      "dnorm_logits    | exact True  | approximate: True  | maxdiff: 0.0\n"
     ]
    }
   ],
   "source": [
    "dnorm_logits = counts * dcounts\n",
    "cmp('dnorm_logits', dnorm_logits, norm_logits)"
   ]
  },
  {
   "cell_type": "code",
   "execution_count": 20,
   "id": "3bc071e1-1b37-47f5-803c-dd8c5c2b3c58",
   "metadata": {},
   "outputs": [
    {
     "name": "stdout",
     "output_type": "stream",
     "text": [
      "dlogit_maxes    | exact True  | approximate: True  | maxdiff: 0.0\n"
     ]
    }
   ],
   "source": [
    "dlogit_maxes = (-dnorm_logits).sum(1, keepdim=True)\n",
    "cmp('dlogit_maxes', dlogit_maxes, logit_maxes)"
   ]
  },
  {
   "cell_type": "code",
   "execution_count": 21,
   "id": "08500a4a-bba0-4c5d-8286-95d11469d757",
   "metadata": {},
   "outputs": [
    {
     "name": "stdout",
     "output_type": "stream",
     "text": [
      "dlogits         | exact True  | approximate: True  | maxdiff: 0.0\n"
     ]
    }
   ],
   "source": [
    "dlogits = torch.zeros_like(logits)\n",
    "dlogits[range(n), logits.max(1).indices] = 1\n",
    "dlogits *= dlogit_maxes\n",
    "dlogits += dnorm_logits.clone()\n",
    "cmp('dlogits', dlogits, logits)"
   ]
  },
  {
   "cell_type": "code",
   "execution_count": 22,
   "id": "ec4a263e-a0e3-4421-8880-6ddb29275ccc",
   "metadata": {},
   "outputs": [
    {
     "data": {
      "text/plain": [
       "torch.Size([32, 64])"
      ]
     },
     "execution_count": 22,
     "metadata": {},
     "output_type": "execute_result"
    }
   ],
   "source": [
    "dW2 = torch.ones_like(W2)\n",
    "h.shape"
   ]
  },
  {
   "cell_type": "markdown",
   "id": "48eae1b6-87d1-4703-ab50-c69c966480e5",
   "metadata": {},
   "source": [
    "* Now we move on to ```logits = h @ W2 + b2```\n",
    "* Writing down the whole matrix multiply element by element shows that the partial derivatives of the expression ```h @ W2 + b2``` are also matrix multiplications, in particular\n",
    "\n",
    "  $dL/dh = dL/dlogits * W2^T$\n",
    "  \n",
    "  $dL/dW2 = h^T * dL/dlogits$\n",
    "\n",
    "* The offset b2 is broadcast across the columns of the result matrix, so each entry in a column of the $dL/dlogits$ matrix will add to the partial derivative of the $b1$ tensor\n",
    "  \n",
    "  $dL/db2 = dL/dlogits.sum(0)$\n",
    "\n",
    "* A shortcut to avoid having to remember these formulas is to look at the shapes of the operations, which have to match up\n",
    "* For example, the result of $dL/dh$ must match the dimensions of $h$\n",
    "* It results from a matrix/vector multiplication of the other factor in the product ($W2$ in this example) with $dL/dlogits$"
   ]
  },
  {
   "cell_type": "code",
   "execution_count": 23,
   "id": "6bf956e3-b1aa-456c-a4b1-0f6b6ea18167",
   "metadata": {},
   "outputs": [
    {
     "name": "stdout",
     "output_type": "stream",
     "text": [
      "h: torch.Size([32, 64])\n",
      "W2: torch.Size([64, 27])\n",
      "dlogits: torch.Size([32, 27])\n"
     ]
    }
   ],
   "source": [
    "print(f'h: {h.shape}')\n",
    "print(f'W2: {W2.shape}')\n",
    "print(f'dlogits: {dlogits.shape}')"
   ]
  },
  {
   "cell_type": "markdown",
   "id": "b59f945e-7d99-4276-83d4-1082a6060b36",
   "metadata": {},
   "source": [
    "* The only way we arrive at a dimension of ```[32,200]``` is to multiply ```dlogits``` with ```W2``` transposed"
   ]
  },
  {
   "cell_type": "code",
   "execution_count": 24,
   "id": "b7d03f88-e92a-43dd-8821-203fabb843a5",
   "metadata": {},
   "outputs": [
    {
     "name": "stdout",
     "output_type": "stream",
     "text": [
      "h               | exact True  | approximate: True  | maxdiff: 0.0\n"
     ]
    }
   ],
   "source": [
    "dh = dlogits @ W2.T\n",
    "cmp('h', dh, h)"
   ]
  },
  {
   "cell_type": "markdown",
   "id": "a3d34931-93ef-48c2-8d07-4efd829a88f1",
   "metadata": {},
   "source": [
    "* Same for $dL/dW2$, which must have the same dimensions as ```W2``` and results from a matrix/vector multiplication of ```dlogits``` and ```h```"
   ]
  },
  {
   "cell_type": "code",
   "execution_count": 25,
   "id": "cb088b75-75c5-433f-ac4a-8147bdb7242e",
   "metadata": {},
   "outputs": [
    {
     "name": "stdout",
     "output_type": "stream",
     "text": [
      "W2: torch.Size([64, 27])\n",
      "h: torch.Size([32, 64])\n",
      "dlogits: torch.Size([32, 27])\n"
     ]
    }
   ],
   "source": [
    "print(f'W2: {W2.shape}')\n",
    "print(f'h: {h.shape}')\n",
    "print(f'dlogits: {dlogits.shape}')"
   ]
  },
  {
   "cell_type": "code",
   "execution_count": 26,
   "id": "d232b16e-2763-40d8-88fc-6b76d125fcae",
   "metadata": {},
   "outputs": [
    {
     "name": "stdout",
     "output_type": "stream",
     "text": [
      "dW2             | exact True  | approximate: True  | maxdiff: 0.0\n"
     ]
    }
   ],
   "source": [
    "dW2 = h.T @ dlogits\n",
    "cmp('dW2', dW2, W2)"
   ]
  },
  {
   "cell_type": "markdown",
   "id": "796e19f8-f37d-405c-bc99-96ceec7982f5",
   "metadata": {},
   "source": [
    "* And finally ```db2```, which is the sum of the columns of ```dlogits```"
   ]
  },
  {
   "cell_type": "code",
   "execution_count": 27,
   "id": "63bfffb4-2b57-45ec-abe7-5ff9c2f2ac5a",
   "metadata": {},
   "outputs": [
    {
     "name": "stdout",
     "output_type": "stream",
     "text": [
      "db2             | exact True  | approximate: True  | maxdiff: 0.0\n"
     ]
    }
   ],
   "source": [
    "db2 = dlogits.sum(0, keepdim=True)\n",
    "cmp('db2', db2, b2)"
   ]
  },
  {
   "cell_type": "markdown",
   "id": "6dfb0e18-4030-4477-9a61-88c0814cf494",
   "metadata": {},
   "source": [
    "* Next up is $dh/dhpreact$, which backpropagates through tanh\n",
    "* One form of the derivative of $tanh$ is $1/cosh^2(x)$"
   ]
  },
  {
   "cell_type": "code",
   "execution_count": 28,
   "id": "27c0c974-4e96-4921-bce8-fc39952d6833",
   "metadata": {},
   "outputs": [
    {
     "name": "stdout",
     "output_type": "stream",
     "text": [
      "dhpreact        | exact False | approximate: True  | maxdiff: 4.656612873077393e-10\n"
     ]
    }
   ],
   "source": [
    "dhpreact = (1. - h*h) * dh\n",
    "cmp('dhpreact', dhpreact, hpreact)"
   ]
  },
  {
   "cell_type": "code",
   "execution_count": 29,
   "id": "91c6919a-e832-432d-9e05-a72ddd558ec2",
   "metadata": {},
   "outputs": [
    {
     "data": {
      "text/plain": [
       "(torch.Size([1, 64]), torch.Size([32, 64]), torch.Size([1, 64]))"
      ]
     },
     "execution_count": 29,
     "metadata": {},
     "output_type": "execute_result"
    }
   ],
   "source": [
    "bngain.shape, bnraw.shape, bnbias.shape"
   ]
  },
  {
   "cell_type": "code",
   "execution_count": 30,
   "id": "b242d853-0f0f-4bed-99eb-be4429597d20",
   "metadata": {},
   "outputs": [
    {
     "name": "stdout",
     "output_type": "stream",
     "text": [
      "dbngain         | exact False | approximate: True  | maxdiff: 1.862645149230957e-09\n",
      "dbnraw          | exact False | approximate: True  | maxdiff: 9.313225746154785e-10\n",
      "dbnbias         | exact False | approximate: True  | maxdiff: 3.725290298461914e-09\n",
      "dbndiff         | exact False | approximate: True  | maxdiff: 6.984919309616089e-10\n",
      "dbnvar_inv      | exact False | approximate: True  | maxdiff: 2.7939677238464355e-09\n",
      "dbndiff2        | exact False | approximate: True  | maxdiff: 2.9103830456733704e-11\n",
      "dbnmeani        | exact False | approximate: True  | maxdiff: 2.7939677238464355e-09\n",
      "dhprebn         | exact False | approximate: True  | maxdiff: 6.984919309616089e-10\n",
      "dembcat         | exact False | approximate: True  | maxdiff: 1.862645149230957e-09\n",
      "dW1             | exact False | approximate: True  | maxdiff: 4.540197551250458e-09\n",
      "db1             | exact False | approximate: True  | maxdiff: 2.561137080192566e-09\n",
      "dC              | exact False | approximate: True  | maxdiff: 5.587935447692871e-09\n"
     ]
    }
   ],
   "source": [
    "dbngain = (bnraw * dhpreact).sum(0, keepdim=True)\n",
    "dbnraw = (bngain * dhpreact)\n",
    "dbnbias = dhpreact.sum(0, keepdim=True)\n",
    "dbndiff = bnvar_inv * dbnraw\n",
    "dbnvar_inv = (bndiff * dbnraw).sum(0, keepdim=True)\n",
    "dbnvar = -0.5 * (bnvar + 1e-5)**-1.5 * dbnvar_inv\n",
    "dbndiff2 = 1/(n-1) * torch.ones_like(bndiff2) * dbnvar\n",
    "dbndiff += 2*bndiff * dbndiff2\n",
    "dbnmeani = -dbndiff.sum(0, keepdim=True)\n",
    "dhprebn = (1/hprebn.shape[0])*torch.ones_like(hprebn)*dbnmeani\n",
    "dhprebn += dbndiff\n",
    "dembcat = dhprebn @ W1.T\n",
    "dW1 = embcat.T @ dhprebn\n",
    "db1 = dhprebn.sum(0, keepdim=True)\n",
    "demb = dembcat.view(-1, block_size, n_embd)\n",
    "dC =  torch.zeros_like(C)\n",
    "for k in range(Xb.shape[0]):\n",
    "    for j in range(Xb.shape[1]):\n",
    "        ix = Xb[k,j]\n",
    "        dC[ix] += demb[k,j]\n",
    "\n",
    "\n",
    "cmp('dbngain', dbngain, bngain)\n",
    "cmp('dbnraw', dbnraw, bnraw)\n",
    "cmp('dbnbias', dbnbias, bnbias)\n",
    "cmp('dbndiff', dbndiff, bndiff)\n",
    "cmp('dbnvar_inv', dbnvar_inv, bnvar_inv)\n",
    "cmp('dbndiff2', dbndiff2, bndiff2)\n",
    "cmp('dbnmeani', dbnmeani, bnmeani)\n",
    "cmp('dhprebn', dhprebn, hprebn)\n",
    "cmp('dembcat', dembcat, embcat)\n",
    "cmp('dW1', dW1, W1)\n",
    "cmp('db1', db1, b1)\n",
    "cmp('dC', dC, C)"
   ]
  },
  {
   "cell_type": "markdown",
   "id": "11520c96-b435-4d90-9e7d-ee5c25954c3b",
   "metadata": {},
   "source": [
    "## Excercise 2: Optimize Cross Entropy Loss Backward Pass\n",
    "* The Cross Entropy, i.e. the function that calculates the loss from the raw logits, is just a single call in torch"
   ]
  },
  {
   "cell_type": "code",
   "execution_count": 31,
   "id": "a56ee8a9-e481-4550-90a3-75a0ad508a17",
   "metadata": {},
   "outputs": [
    {
     "data": {
      "text/plain": [
       "tensor(3.3698, grad_fn=<NllLossBackward0>)"
      ]
     },
     "execution_count": 31,
     "metadata": {},
     "output_type": "execute_result"
    }
   ],
   "source": [
    "F.cross_entropy(logits, Yb)"
   ]
  },
  {
   "cell_type": "markdown",
   "id": "1f56dec9-c2c1-471f-a9fe-41661db8416d",
   "metadata": {},
   "source": [
    "* As it is a single function, the forward as well as the backward pass is much faster\n",
    "* If you write down the cross entropy function and it's derivative analytically, then you arrive at a simple function"
   ]
  },
  {
   "cell_type": "markdown",
   "id": "1be0593d-32b1-469d-b5a0-715157d79354",
   "metadata": {},
   "source": [
    "### Derivation of the Cross Entropy Loss Function\n",
    "\n",
    "If $\\Large P$ is the probability vector for one sample, then the loss for that sample is\n",
    "\n",
    "$\\Large loss = - log P_y$,\n",
    "\n",
    "where $\\Large P_y$ is the probability at the position that corresponds to the label $y$. The probability for an entry is caculated by the *softmax* function:\n",
    "\n",
    "$\\Large P_i=\\frac{e^{l_i}}{\\sum_j e^{l_j}}$\n",
    "\n",
    "So we want to calculate the derivative of the loss wrt to the logits:\n",
    "\n",
    "$\\Large \\frac{\\partial loss}{\\partial l_i}= \\frac{\\partial}{\\partial l_i}[-log \\frac{e^{l_y}}{\\sum_j e^{l_j}}  ]$\n",
    "\n",
    "#### Case: i=y\n",
    "\n",
    "First, we apply the chain rule for the outer $log$ function. Since the derivative of $log$ is $\\Large \\frac{1}{x}$\n",
    "\n",
    "$\\Large \\frac{\\partial loss}{\\partial l_y}= -\\frac{\\sum_j e^{l_j}}{e^{l_y}} \\cdot \\frac{\\partial}{\\partial l_i} [\\frac{e^{l_y}}{\\sum_j e^{l_j}}]$\n",
    "\n",
    "For the inner term, we apply the product rule for the division and again the chain rule for the second sum:\n",
    "\n",
    "$\\Large = -\\frac{\\sum_j e^{l_j}}{e^{l_y}} \\cdot (e^{l_y} \\cdot (\\sum_j e^{l_j})^{-1} - e^{l_y} \\cdot (\\sum_j e^{l_j})^{-2} \\cdot e^{l_y})$\n",
    "\n",
    "We can factor out $\\Large e^{l_y}$ and $\\Large (\\sum_j e^{l_j})^{-1}$, which cancel with the outer term. The minus sign is multiplied with both terms:\n",
    "\n",
    "$\\Large \\frac{\\cancel{\\sum_j e^{l_j}}}{\\cancel{e^{l_y}}} \\cdot (\\frac{- \\cancel{e^{l_y}} \\cdot \\sum_j e^{l_j} + e^{l_i} \\cdot \\cancel{e^{l_y}}}{(\\sum_j e^{l_j})^{\\cancel{2}}})$\n",
    "\n",
    "The term that is left can be summarized as follows:\n",
    "\n",
    "$\\Large P_y - 1$\n",
    "\n",
    "#### Case: i$\\neq$y\n",
    "\n",
    "Again, we apply the chain rule for the outer $log$ function.\n",
    "\n",
    "$\\Large \\frac{\\partial loss}{\\partial l_i}= -\\frac{\\sum_j e^{l_j}}{e^{l_y}} \\cdot \\frac{\\partial}{\\partial l_i} [\\frac{e^{l_y}}{\\sum_j e^{l_j}}]$\n",
    "\n",
    "As $e^{l_y}$ behaves like a constant this time, we need to apply the chain rule\n",
    "\n",
    "$\\Large = -\\frac{\\sum_j e^{l_j}}{e^{l_y}} \\cdot (-e^{l_y} \\cdot (\\sum_j e^{l_j})^{-2} \\cdot e^{l_i})$\n",
    "\n",
    "As with the last case, some terms cancel\n",
    "\n",
    "$\\Large = -\\frac{\\cancel{\\sum_j e^{l_j}}}{\\cancel{e^{l_y}}} \\cdot (-\\cancel{e^{l_y}} \\cdot (\\sum_j e^{l_j})^{-1} \\cdot e^{l_i})$\n",
    "\n",
    "and we are left with the probability for the logit $l_i$\n",
    "\n",
    "$\\Large = P_i$\n",
    "\n",
    "#### Divide by n\n",
    "\n",
    "In the two cases aboe, the loss for one element was derived wrt. $l_i$. The loss for all elements will add all the losses and take the average, so divide by $1/n$. The derivatives thus have to be divided by $1/n$ as well."
   ]
  },
  {
   "cell_type": "markdown",
   "id": "27b6bf91-0305-4fd0-accf-aa4801e598ae",
   "metadata": {},
   "source": [
    "### In Code"
   ]
  },
  {
   "cell_type": "code",
   "execution_count": 32,
   "id": "04736c39-7a27-4d51-8f33-4c65fe0ed8c7",
   "metadata": {},
   "outputs": [
    {
     "name": "stdout",
     "output_type": "stream",
     "text": [
      "dlogits         | exact False | approximate: True  | maxdiff: 5.820766091346741e-09\n"
     ]
    }
   ],
   "source": [
    "dlogits = F.softmax(logits, 1)\n",
    "dlogits[range(n), Yb] -= 1\n",
    "dlogits /=  n\n",
    "\n",
    "cmp('dlogits', dlogits, logits)"
   ]
  },
  {
   "cell_type": "markdown",
   "id": "d2125cce-6013-4bd4-bf73-5052653b0126",
   "metadata": {},
   "source": [
    "### Intuitive Explanation"
   ]
  },
  {
   "cell_type": "code",
   "execution_count": 33,
   "id": "00b3f9f9-13c6-47cb-ba89-a7ade78089f8",
   "metadata": {},
   "outputs": [
    {
     "data": {
      "text/plain": [
       "<matplotlib.image.AxesImage at 0x7f85b03f9720>"
      ]
     },
     "execution_count": 33,
     "metadata": {},
     "output_type": "execute_result"
    },
    {
     "data": {
      "image/png": "[encoded data removed]",
      "text/plain": [
       "<Figure size 800x800 with 1 Axes>"
      ]
     },
     "metadata": {},
     "output_type": "display_data"
    }
   ],
   "source": [
    "plt.figure(figsize=(8,8))\n",
    "plt.imshow(dlogits.detach(), cmap='gray')"
   ]
  },
  {
   "cell_type": "markdown",
   "id": "7b792a8e-3874-45a1-81be-fe8797796e3e",
   "metadata": {},
   "source": [
    "* dlogits is the probability matrix of the forward pass, where the black dots in the image above are the entries where we subtracted a 1\n",
    "* Let's look at the first row of the probabilities and dlogits "
   ]
  },
  {
   "cell_type": "code",
   "execution_count": 34,
   "id": "a7c8b03f-603c-4f23-bd30-b1896a117409",
   "metadata": {},
   "outputs": [
    {
     "data": {
      "text/plain": [
       "tensor([0.0358, 0.0539, 0.0206, 0.0261, 0.0115, 0.0592, 0.0626, 0.0289, 0.0540,\n",
       "        0.0257, 0.0519, 0.0321, 0.0456, 0.0119, 0.0195, 0.0170, 0.0154, 0.0317,\n",
       "        0.0280, 0.0722, 0.0218, 0.0812, 0.0194, 0.0487, 0.0730, 0.0326, 0.0200],\n",
       "       grad_fn=<SelectBackward0>)"
      ]
     },
     "execution_count": 34,
     "metadata": {},
     "output_type": "execute_result"
    }
   ],
   "source": [
    "F.softmax(logits, 1)[0]"
   ]
  },
  {
   "cell_type": "code",
   "execution_count": 35,
   "id": "f1ce4e4b-fe1c-41f1-b2dd-7b2963de10b0",
   "metadata": {},
   "outputs": [
    {
     "data": {
      "text/plain": [
       "tensor([ 0.0358,  0.0539,  0.0206,  0.0261,  0.0115, -0.9408,  0.0626,  0.0289,\n",
       "         0.0540,  0.0257,  0.0519,  0.0321,  0.0456,  0.0119,  0.0195,  0.0170,\n",
       "         0.0154,  0.0317,  0.0280,  0.0722,  0.0218,  0.0812,  0.0194,  0.0487,\n",
       "         0.0730,  0.0326,  0.0200], grad_fn=<MulBackward0>)"
      ]
     },
     "execution_count": 35,
     "metadata": {},
     "output_type": "execute_result"
    }
   ],
   "source": [
    "dlogits[0] * n"
   ]
  },
  {
   "cell_type": "markdown",
   "id": "c5a9c818-1d44-491e-9120-b9ba1bfbbd08",
   "metadata": {},
   "source": [
    "* We see that ```dlogits``` is exactly equal to the probabilities, except for the correct probability according to the label, where we subtracted 1\n",
    "* Notice that if we take the first row of ```dlogits``` and sum it, it will be equal to 0, because probabilities sum to 1 and we subtract 1 from one position"
   ]
  },
  {
   "cell_type": "code",
   "execution_count": 36,
   "id": "b60dd584-562e-407d-b42c-53ebc6e00b9c",
   "metadata": {},
   "outputs": [
    {
     "data": {
      "text/plain": [
       "tensor(-3.0268e-09, grad_fn=<SumBackward0>)"
      ]
     },
     "execution_count": 36,
     "metadata": {},
     "output_type": "execute_result"
    }
   ],
   "source": [
    "dlogits[0].sum()"
   ]
  },
  {
   "cell_type": "markdown",
   "id": "f7aef5e2-16f8-4ffa-8a9c-c543f5bf0894",
   "metadata": {},
   "source": [
    "* Thus, we can think of the rows of pulling down on the probabilities of the incorrect characters and pulling up on the correct one\n",
    "* These pushes and pulls sum to zero, so the repulsion and the retraction are equal\n",
    "* the rest of the neural net, specifically the weights and biases give in to this tuck, as everything is mathematically connected\n",
    "* And the amount of push and pull is proportional to the probabilities in the forward pass, so if an incorrect answer got a high probability, it will be pushed down by that amount\n",
    "* In turn, if the correct character got a high probability, e.g. near 1, then subtracting by 1 leaves a small correction force"
   ]
  },
  {
   "cell_type": "markdown",
   "id": "357e331d-a8d0-4248-bc6d-a13810f92fbb",
   "metadata": {},
   "source": [
    "\n",
    "## Excercie 3: Optimize Batchnorm Backward Pass\n",
    "* Like with the cross entropy layer, we will derive the batch normalization formula wrt. the output of the linear layer\n",
    "* The formula for the batch normalization layer is as follows\n",
    "\n",
    "  $\\Large \\mu_B = \\frac{1}{m} \\sum_i^m x_i $\n",
    "  \n",
    "  $\\Large \\sigma_B^2 = \\frac{1}{m-1} \\sum_i^m (x_i - \\mu_B)^2$ // bessel correction\n",
    "\n",
    "  $\\Large \\hat{x}_i = \\frac{(x_i - \\mu_B)}{\\sqrt{\\sigma_B^2 + \\epsilon}}$\n",
    "\n",
    "  $\\Large y_i = \\gamma \\cdot \\hat{x}_i + \\beta$\n",
    "\n",
    "* We will compute the following derivative\n",
    "\n",
    "  $\\Large \\frac{\\partial loss}{\\partial x_i}$\n",
    "\n",
    "* and we already have\n",
    "\n",
    "  $\\Large \\frac{\\partial loss}{\\partial y_i}$\n",
    "\n",
    "* We will derive in the following order:\n",
    "\n",
    "  $\\Large \\frac{\\partial loss}{\\partial y_i}\\frac{\\partial y_i}{\\partial \\hat{x}_i},\n",
    "          \\frac{\\partial loss}{\\partial \\hat{x}_i}\\frac{\\partial \\hat{x}_i}{\\partial \\sigma_B^2},\n",
    "          \\frac{\\partial loss}{\\partial \\hat{x}_i}\\frac{\\partial \\hat{x}_i}{\\partial \\mu_B},\n",
    "          \\frac{\\partial loss}{\\partial \\sigma_B^2}\\frac{\\partial \\sigma_B^2}{\\partial \\mu_B},\n",
    "          \\frac{\\partial loss}{\\partial \\hat{x}_i}\\frac{\\partial \\hat{x}_i}{\\partial x_i},\n",
    "          \\frac{\\partial loss}{\\partial \\sigma_B^2}\\frac{\\partial \\sigma_B^2}{\\partial x_i},\n",
    "          \\frac{\\partial loss}{\\partial \\mu_B}\\frac{\\partial \\mu_B}{\\partial x_i}$\n"
   ]
  },
  {
   "cell_type": "markdown",
   "id": "f26f755c-a8bb-453e-b388-9a1bf0a3bf30",
   "metadata": {},
   "source": [
    "* Here are the derivatives\n",
    "\n",
    "  $\\Large \\frac{\\partial loss}{\\partial \\hat{x}_i} = \\frac{\\partial loss}{\\partial y_i} \\frac{\\partial}{\\partial \\hat{x}_i} [ \\gamma \\hat{x}_i + \\beta ] = \\frac{\\partial loss}{\\partial y_i} \\gamma $\n",
    "  \n",
    "  $\\Large \\frac{\\partial loss}{\\partial \\sigma_B^2} = \\sum_i \\frac{\\partial loss}{\\partial \\hat{x}_i}\\frac{\\partial }{\\partial \\sigma_i^2}[\\frac{x_i - \\mu_B}{\\sqrt{\\sigma_B^2 + \\epsilon}}] = -\\frac{1}{2}\\gamma \\sum_i \\frac{\\partial loss}{\\partial y_i} (x_i-\\mu_B) (\\sigma_B^2 + \\epsilon)^{-\\frac{3}{2}}$\n",
    "\n",
    "  $\\Large \\frac{\\partial loss}{\\partial \\mu_B} = (\\sum_i \\frac{\\partial loss}{\\partial \\hat{x}_i} \\frac{\\partial \\hat{x}_i}{\\mu_B}) + \\frac{\\partial loss}{\\partial \\sigma_B^2}\\frac{\\partial \\sigma_B^2}{\\partial \\mu_B}$"
   ]
  },
  {
   "cell_type": "markdown",
   "id": "81eb54ec-a9df-45aa-b0d8-9aacc48270f1",
   "metadata": {},
   "source": [
    "* We'll derive the two addends separately, starting with the first\n",
    "\n",
    "  $\\Large \\frac{\\partial }{\\partial \\mu_B}[\\frac{x_i - \\mu_B}{\\sqrt{\\sigma_B^2 + \\epsilon}}] = -(\\sigma_B^2 + \\epsilon)^{-\\frac{1}{2}}$\n",
    "\n",
    "* Then the second\n",
    "\n",
    "  $\n",
    "  \\begin{align}\n",
    "  \\frac{\\partial}{\\partial \\mu_B}[\\frac{1}{m}\\sum_i (x_i - \\mu_B)^2 ] &= -\\frac{2}{m-1}\\sum_i^m (x_i - \\mu_B) \\\\\n",
    "   &= -\\frac{2}{m-1} (\\sum_i^m x_i - \\sum_i^m \\mu_B) \\\\\n",
    "   &= -\\frac{2}{m-1} (\\sum_i^m x_i - m \\mu_B) \\\\\n",
    "   &= -\\frac{2m}{m-1} (\\frac{1}{m} \\sum_i^m x_i - \\mu_B)) \\\\\n",
    "   &= -\\frac{2m}{m-1} (\\mu_B - \\mu_B)) \\\\\n",
    "   &= 0\n",
    "  \\end{align}\n",
    "   $\n",
    "* Using our results in the original derivation\n",
    "\n",
    "  $\\Large \\frac{\\partial loss}{\\partial \\mu_B} = -\\sum_i \\frac{\\partial loss}{\\partial y_i}\\gamma (\\sigma_B^2 + \\epsilon)^{-\\frac{1}{2}}$"
   ]
  },
  {
   "cell_type": "markdown",
   "id": "fc6c5dbb-de2a-4115-9daa-e348d446577c",
   "metadata": {},
   "source": [
    "* Now on to the largest derivation: $x_i$\n",
    "\n",
    "  $\\Large \\frac{\\partial loss}{\\partial x_i} = \\frac{\\partial loss}{\\partial \\hat{x}_i} \\frac{\\partial \\hat{x}_i}{\\partial x_i} + \\frac{\\partial loss}{\\partial \\sigma_B^2} \\frac{\\partial \\sigma_B^2}{\\partial x_i} + \\frac{\\partial loss}{\\partial \\mu_B} \\frac{\\partial \\mu_B}{\\partial \\partial x_i}$ "
   ]
  },
  {
   "cell_type": "markdown",
   "id": "c7a3b34b-33c7-4e54-a6e1-e591390f1a52",
   "metadata": {},
   "source": [
    "* Again, let's break it down per addend\n",
    "\n",
    "$\n",
    "\\begin{align}\n",
    "\\frac{\\partial \\hat{x}_i}{\\partial x_i} &= \\frac{\\partial}{\\partial x_i}[\\frac{(x_i - \\mu_B)}{\\sqrt{\\sigma_B^2 + \\epsilon}}] \\\\\n",
    "                                        &= (\\sigma_B^2 + \\epsilon)^{-\\frac{1}{2}}\n",
    "\\end{align}\n",
    "$\n",
    "\n",
    "\n",
    "$\n",
    "\\begin{align}\n",
    "\\frac{\\partial \\sigma_B^2}{\\partial x_i} &= \\frac{\\partial}{\\partial x_i}[\\frac{1}{m-1}\\sum_j^m (x_j - \\mu_B)^2] \\\\\n",
    "                                         &= \\frac{2}{m-1}(x_i - \\mu_B)\n",
    "\\end{align}\n",
    "$\n",
    "\n",
    "$\n",
    "\\begin{align}\n",
    "\\frac{\\partial \\mu_B}{\\partial x_i} &= \\frac{\\partial}{\\partial x_i}[\\frac{1}{m}\\sum_j^m x_i] \\\\\n",
    "                                    &= \\frac{1}{m}\n",
    "\\end{align}\n",
    "$\n"
   ]
  },
  {
   "cell_type": "markdown",
   "id": "a1f26ebd-f376-421a-a41d-20befb73121e",
   "metadata": {},
   "source": [
    "* We insert our results back into the large formula\n",
    "\n",
    "  $\\Large \\frac{\\partial loss}{\\partial x_i} = \\frac{\\partial loss}{\\partial \\hat{x}_i} (\\sigma_B^2 + \\epsilon)^{-\\frac{1}{2}} + \\frac{\\partial loss}{\\partial \\sigma_B^2} (\\frac{2}{m-1}(x_i - \\mu_B)) + \\frac{\\partial loss}{\\partial \\mu_B} \\frac{1}{m}$ "
   ]
  },
  {
   "cell_type": "markdown",
   "id": "01c6b834-7abd-4c05-ab56-3fa426a8a4c5",
   "metadata": {},
   "source": [
    "* And we expand the results that we achieved before\n",
    "\n",
    "  $\\Large \\frac{\\partial loss}{\\partial x_i} = \\frac{\\partial loss}{\\partial y_i}\\gamma (\\sigma_B^2 + \\epsilon)^{-\\frac{1}{2}} + -\\frac{1}{2}\\gamma (\\sum_j \\frac{\\partial loss}{\\partial y_j} (x_j-\\mu_B) (\\sigma_B^2 + \\epsilon)^{-\\frac{3}{2}}) (\\frac{2}{m-1}(x_i - \\mu_B)) -\\sum_j \\frac{\\partial loss}{\\partial y_j}\\gamma (\\sigma_B^2 + \\epsilon)^{-\\frac{1}{2}} \\frac{1}{m}$ "
   ]
  },
  {
   "cell_type": "markdown",
   "id": "07343aad-d490-4150-ac21-95eaa661ad79",
   "metadata": {},
   "source": [
    "* We will now simplify with the goal to reuse calculations that we already computed\n",
    "* Every term has $(\\sigma_B^2 + \\epsilon)^{-\\frac{1}{2}}$\n",
    "* I don't know why, but Andrej is also factoring out $\\frac{1}{m}$\n",
    "* In the middle term, the $(\\sigma_B^2 + \\epsilon)^{-\\frac{3}{2}}=\\frac{1}{\\sqrt{(\\sigma_B^2 + \\epsilon)}^3}$ is factored into three $\\frac{1}{\\sqrt{(\\sigma_B^2 + \\epsilon)}}$\n",
    "* One $\\frac{1}{\\sqrt{(\\sigma_B^2 + \\epsilon)}}$ is factored out of the whole sum, one remains where it is and one is moved to the neighboring term to be able to reduce it to $\\hat{x}_i$"
   ]
  },
  {
   "cell_type": "markdown",
   "id": "e2eafbe8-5359-441d-9454-4e83d067f3a4",
   "metadata": {},
   "source": [
    "  $\\Large = \\frac{\\partial loss}{\\partial y_i}\\gamma (\\sigma_B^2 + \\epsilon)^{-\\frac{1}{2}} + -\\frac{1}{\\cancel{2}\\sqrt{(\\sigma_B^2 + \\epsilon)}}\\gamma \\sum_j \\frac{\\partial loss}{\\partial y_j} \\frac{(x_j-\\mu_B)}{\\sqrt{(\\sigma_B^2 + \\epsilon)}} (\\frac{\\cancel{2}}{m-1}\\frac{(x_j-\\mu_B)}{\\sqrt{(\\sigma_B^2 + \\epsilon)}}) -\\sum_j \\frac{\\partial loss}{\\partial y_j}\\gamma (\\sigma_B^2 + \\epsilon)^{-\\frac{1}{2}}\\frac{1}{m}$ "
   ]
  },
  {
   "cell_type": "markdown",
   "id": "760a63f1-7062-4476-938f-6c055712659b",
   "metadata": {},
   "source": [
    "  $\\Large = \\frac{(\\sigma_B^2 + \\epsilon)^{-\\frac{1}{2}}}{m}\\gamma(\\frac{\\partial loss}{\\partial y_i} m - (\\frac{m}{m-1}\\hat{x}_i)(\\sum_j \\frac{\\partial loss}{\\partial y_j} \\hat{x}_j)-\\sum_j \\frac{\\partial loss}{\\partial y_j})$ "
   ]
  },
  {
   "cell_type": "markdown",
   "id": "f7efa7a4-ffdc-4b4f-b63b-02dbff4b9da7",
   "metadata": {},
   "source": [
    "### In Code"
   ]
  },
  {
   "cell_type": "code",
   "execution_count": 37,
   "id": "ccbdcfbb-f6e1-40d5-9c3b-6f963552ccdd",
   "metadata": {},
   "outputs": [],
   "source": [
    "dhprebn = bngain*bnvar_inv/n * (n*dhpreact - n/(n-1)*bnraw*(dhpreact*bnraw).sum(0) - dhpreact.sum(0))"
   ]
  },
  {
   "cell_type": "code",
   "execution_count": 38,
   "id": "e8b1b38a-d202-446a-b0d5-4a87e38d0e08",
   "metadata": {},
   "outputs": [
    {
     "name": "stdout",
     "output_type": "stream",
     "text": [
      "dhprebn         | exact False | approximate: True  | maxdiff: 9.313225746154785e-10\n"
     ]
    }
   ],
   "source": [
    "cmp('dhprebn', dhprebn, hprebn)"
   ]
  },
  {
   "cell_type": "markdown",
   "id": "9ba81684-f29d-4e8e-ae5f-2059474edc8f",
   "metadata": {},
   "source": [
    "## Excercise 4: Put it all together!\n",
    "* We will now train the neural net using our own backprop code and compare to the result that torch give us"
   ]
  },
  {
   "cell_type": "code",
   "execution_count": null,
   "id": "7462b608-7b5e-4b0e-9e84-63f54ca6df51",
   "metadata": {},
   "outputs": [],
   "source": [
    "n_embd = 10\n",
    "n_hidden = 200\n",
    "\n",
    "g = torch.Generator().manual_seed(2147483647)\n",
    "C = torch.randn((vocab_size, n_embd)               , generator = g)\n",
    "W1 = torch.randn((block_size*n_embd, n_hidden)     , generator = g) * 5/3 / ((block_size*n_embd)**0.5) # kaimin initialization to avoid contraction\n",
    "b1 = torch.randn((n_hidden)                        , generator = g) * 0.1\n",
    "W2 = torch.randn((n_hidden, vocab_size)            , generator = g) * 0.1  # make less confident\n",
    "b2 = torch.randn((vocab_size)                      , generator = g) * 0.1  # not zero to unmask gradient errors\n",
    "\n",
    "bngain = torch.ones((1, n_hidden)) * 0.1 + 1.0\n",
    "bnbias = torch.zeros((1, n_hidden)) * 0.1\n",
    "\n",
    "parameters = [C, W1, b1, W2, b2, bngain, bnbias]\n",
    "print(sum(p.nelement() for p in parameters))\n",
    "for p in parameters:\n",
    "    p.requires_grad = True"
   ]
  },
  {
   "cell_type": "code",
   "execution_count": null,
   "id": "f16be3ad-6392-458b-b10b-66c3b0737c50",
   "metadata": {},
   "outputs": [],
   "source": [
    "max_steps = 200000\n",
    "batch_size = 32\n",
    "n = batch_size # shorter name for use in expressions\n",
    "lossi = []"
   ]
  },
  {
   "cell_type": "code",
   "execution_count": null,
   "id": "7ce895e2-b8f4-4752-8072-b0385c648f48",
   "metadata": {},
   "outputs": [],
   "source": [
    "for i in range(max_steps):\n",
    "    xi = torch.randint(0, len(words), (batch_size, ), generator = g)\n",
    "    Xb, Yb = Xtr[xi], Ytr[xi]\n",
    "    # forward pass \"chunkated\" into smaller steps that are possible to backward one at a time\n",
    "    emb = C[Xb]\n",
    "    embcat = emb.view(emb.shape[0], -1)\n",
    "    # Linear Layer 1\n",
    "    hprebn = embcat @ W1 + b1\n",
    "    # Batchnorm Layer\n",
    "    bnmean = hprebn.mean(0, keepdim=True)\n",
    "    bnvar = hprebn.var(0, keepdim=True, unbiased=True)\n",
    "    bnvar_inv = (bnvar + 1e-5)**-0.5\n",
    "    bnraw = (hprebn - bnmean) * bnvar_inv\n",
    "    hpreact = bngain * bnraw + bnbias\n",
    "    # Non Linearity\n",
    "    h = torch.tanh(hpreact)\n",
    "    # Linear layer 2\n",
    "    logits = h @ W2 + b2\n",
    "    # cross entropy loss\n",
    "    loss = F.cross_entropy(logits, Yb)\n",
    "    \n",
    "    # PyTorch backward pass\n",
    "    for p in parameters:\n",
    "        p.grad = None\n",
    "    loss.backward()\n",
    "    \n",
    "    # YOUR CODE HERE\n",
    "    dlogits = F.softmax(logits, 1)\n",
    "    dlogits[range(n), Yb] -= 1\n",
    "    dlogits /=  n\n",
    "    dh = dlogits @ W2.T\n",
    "    dW2 = h.T @ dlogits\n",
    "    db2 = dlogits.sum(0)\n",
    "    dhpreact = (1. - h*h) * dh\n",
    "    dbngain = (bnraw * dhpreact).sum(0, keepdim=True)\n",
    "    dbnraw = (bngain * dhpreact)\n",
    "    dbnbias = dhpreact.sum(0, keepdim=True)\n",
    "    dbndiff = bnvar_inv * dbnraw\n",
    "    dbnvar_inv = (bndiff * dbnraw).sum(0, keepdim=True)\n",
    "    dbnvar = -0.5 * (bnvar + 1e-5)**-1.5 * dbnvar_inv\n",
    "    dbndiff2 = 1/(n-1) * torch.ones_like(bndiff2) * dbnvar\n",
    "    dbndiff += 2*bndiff * dbndiff2\n",
    "    dbnmeani = -dbndiff.sum(0, keepdim=True)\n",
    "    dhprebn = (1/hprebn.shape[0])*torch.ones_like(hprebn)*dbnmeani\n",
    "    dhprebn += dbndiff\n",
    "    dembcat = dhprebn @ W1.T\n",
    "    dW1 = embcat.T @ dhprebn\n",
    "    db1 = dhprebn.sum(0)\n",
    "    demb = dembcat.view(-1, block_size, n_embd)\n",
    "    dC =  torch.zeros_like(C)\n",
    "    for k in range(Xb.shape[0]):\n",
    "        for j in range(Xb.shape[1]):\n",
    "            ix = Xb[k,j]\n",
    "            dC[ix] += demb[k,j]\n",
    "\n",
    "    grads = [dC, dW1, db1, dW2, db2, dbngain, dbnbias]\n",
    "\n",
    "    # update\n",
    "    lr = 0.1 if i < 100000 else 0.01\n",
    "    for p, grad in zip(parameters, grads):\n",
    "#        p.data += -lr * p.grad\n",
    "        p.data += -lr * grad\n",
    "\n",
    "    # track stats \n",
    "    if i % 10000 == 0:\n",
    "        print(f'{i:7d}/{max_steps:7d}: {loss.item():.4f}')\n",
    "    lossi.append(loss.log10().item())"
   ]
  },
  {
   "cell_type": "markdown",
   "id": "fac49f11-9524-4e72-9bd3-05f1dd84d9e3",
   "metadata": {},
   "source": [
    "* After training, we calculate the mean and var for the whole training set to be used in the forward pass that calculates the loss of a whole set"
   ]
  },
  {
   "cell_type": "code",
   "execution_count": null,
   "id": "77e4ad1f-1d49-4b0b-9ec7-c24a5847075f",
   "metadata": {},
   "outputs": [],
   "source": [
    "with torch.no_grad():\n",
    "    emb = C[Xtr]\n",
    "    embcat = emb.view(emb.shape[0], -1)\n",
    "    hpreact = embcat @ W1 + b1\n",
    "    bnmean = hpreact.mean(0, keepdim=True)\n",
    "    bnvar = hpreact.var(0, keepdim=True)"
   ]
  },
  {
   "cell_type": "code",
   "execution_count": null,
   "id": "bf4de810-f6f2-4d4a-9bd1-aac005cc526b",
   "metadata": {},
   "outputs": [],
   "source": [
    "@torch.no_grad()\n",
    "def split_loss(split):\n",
    "    x, y = {\n",
    "        'train': (Xtr, Ytr),\n",
    "        'val': (Xval, Yval),\n",
    "        'test': (Xtest, Ytest),\n",
    "    }[split]\n",
    "    emb = C[x]\n",
    "    embcat = emb.view(emb.shape[0], -1)\n",
    "    hpreact = embcat @ W1 + b1\n",
    "    hpreact = bngain * (hpreact - bnmean) * (bnvar + 1e-5)**-0.5 + bnbias\n",
    "    h = torch.tanh(hpreact)\n",
    "    logits = h @ W2 + b2\n",
    "    loss = F.cross_entropy(logits, y)\n",
    "    print(split, loss.item())\n",
    "\n",
    "split_loss('train')\n",
    "split_loss('val')"
   ]
  },
  {
   "cell_type": "code",
   "execution_count": null,
   "id": "cd1810b4-a598-4160-bc76-b816d9e0c4e7",
   "metadata": {},
   "outputs": [],
   "source": []
  },
  {
   "cell_type": "code",
   "execution_count": null,
   "id": "6fcf53e2-178c-4704-959f-a83b57509e2a",
   "metadata": {},
   "outputs": [],
   "source": []
  },
  {
   "cell_type": "code",
   "execution_count": null,
   "id": "30750989-b2c7-4cee-a1e1-d7e5c0df0e96",
   "metadata": {},
   "outputs": [],
   "source": []
  },
  {
   "cell_type": "code",
   "execution_count": null,
   "id": "46a3e910-412b-4807-bc57-972c1c9bc604",
   "metadata": {},
   "outputs": [],
   "source": []
  },
  {
   "cell_type": "code",
   "execution_count": null,
   "id": "000f85ed-f2dd-4b19-a71e-c57091525739",
   "metadata": {},
   "outputs": [],
   "source": []
  },
  {
   "cell_type": "code",
   "execution_count": null,
   "id": "59eb7518-f1b2-4ce7-8138-73a22a320346",
   "metadata": {},
   "outputs": [],
   "source": []
  },
  {
   "cell_type": "code",
   "execution_count": null,
   "id": "f51099d8-9079-40ac-b49e-00b01d2fb979",
   "metadata": {},
   "outputs": [],
   "source": []
  },
  {
   "cell_type": "code",
   "execution_count": null,
   "id": "27fb81d9-1163-4f49-b642-00d9414bc773",
   "metadata": {},
   "outputs": [],
   "source": []
  },
  {
   "cell_type": "code",
   "execution_count": null,
   "id": "e577a1de-8c78-49c4-9907-d81c4cf9b8fa",
   "metadata": {},
   "outputs": [],
   "source": []
  },
  {
   "cell_type": "code",
   "execution_count": null,
   "id": "0ebf56b0-5ea8-49ea-8312-1d0c13a3b422",
   "metadata": {},
   "outputs": [],
   "source": []
  },
  {
   "cell_type": "code",
   "execution_count": null,
   "id": "98ac4be8-d3da-4e76-8d79-d08504afc858",
   "metadata": {},
   "outputs": [],
   "source": []
  },
  {
   "cell_type": "code",
   "execution_count": null,
   "id": "abe84073-bca7-4ade-815e-1026605cbba3",
   "metadata": {},
   "outputs": [],
   "source": []
  },
  {
   "cell_type": "code",
   "execution_count": null,
   "id": "253e288b-2e8a-41e2-a166-8a6051f07494",
   "metadata": {},
   "outputs": [],
   "source": []
  },
  {
   "cell_type": "code",
   "execution_count": null,
   "id": "a7adb80b-2feb-41c3-8f9c-93ccf470c872",
   "metadata": {},
   "outputs": [],
   "source": []
  },
  {
   "cell_type": "code",
   "execution_count": null,
   "id": "e9399feb-fc80-4e14-bf11-077ae8b17065",
   "metadata": {},
   "outputs": [],
   "source": []
  }
 ],
 "metadata": {
  "kernelspec": {
   "display_name": "Python 3 (ipykernel)",
   "language": "python",
   "name": "python3"
  },
  "language_info": {
   "codemirror_mode": {
    "name": "ipython",
    "version": 3
   },
   "file_extension": ".py",
   "mimetype": "text/x-python",
   "name": "python",
   "nbconvert_exporter": "python",
   "pygments_lexer": "ipython3",
   "version": "3.10.14"
  }
 },
 "nbformat": 4,
 "nbformat_minor": 5
}
